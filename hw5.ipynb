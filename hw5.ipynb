{
 "cells": [
  {
   "cell_type": "markdown",
   "id": "1602c97f",
   "metadata": {},
   "source": [
    "## Divide and conquer assignment"
   ]
  },
  {
   "cell_type": "markdown",
   "id": "4281f1b5",
   "metadata": {},
   "source": [
    "### Instructions"
   ]
  },
  {
   "cell_type": "markdown",
   "id": "6de15d42",
   "metadata": {},
   "source": [
    "#### Two positive integers always have common factors. For example, the common factors 12 and 18 are 1, 2, 3, and 6 because 12 and 18 are both divisible by these numbers. The greatest common factor (GCF) of a number is the largest number by which both numbers are divisible. In the example, the number 6 is the GFC of 12 and 18. There are at least two methods for calculating GDF of two numbers. One is the method of successive divisions. In this process, we make several divisions until we reach an exact division."
   ]
  },
  {
   "cell_type": "markdown",
   "id": "3506abad",
   "metadata": {},
   "source": [
    "### Code"
   ]
  },
  {
   "cell_type": "code",
   "execution_count": 2,
   "id": "47414e4f",
   "metadata": {},
   "outputs": [],
   "source": [
    "# function to get the min of the two numbers\n",
    "def minimum(a,b):\n",
    "    if (a<b):\n",
    "        return a\n",
    "    else:\n",
    "        return b\n",
    "\n",
    "# function to get the max of the two numbers\n",
    "def maximun(a,b):\n",
    "    if (a>b):\n",
    "        return a\n",
    "    else:\n",
    "        return b\n",
    "\n",
    "# function to get the GDF of the two numbers\n",
    "# here we are using the divide and conquer method\n",
    "# arguments taken in the function -> numbers entered by the user (i.e a,b)\n",
    "def GDF(a, b):\n",
    "    Max = maximun(a,b)\n",
    "    Min = minimum(a,b) \n",
    "    # calculating the remainder of the max and min obtained\n",
    "    remainder = Max % Min\n",
    "    \n",
    "    # the function will run recursively until the remainder obtained is 0\n",
    "    if(remainder == 0):\n",
    "        # so in result the gdf will be the min value obtained\n",
    "        return Min\n",
    "    \n",
    "    # we will call the same function again until we obtain remainder as 0\n",
    "    else:\n",
    "        # calling the function again, this implements the recurssion phase making the code more optimal and faster\n",
    "        return GDF(Min, remainder)\n"
   ]
  },
  {
   "cell_type": "markdown",
   "id": "f0596c55",
   "metadata": {},
   "source": [
    "### Test Cases"
   ]
  },
  {
   "cell_type": "code",
   "execution_count": 3,
   "id": "ffee77ca",
   "metadata": {},
   "outputs": [
    {
     "name": "stdout",
     "output_type": "stream",
     "text": [
      "\n",
      "                   Divide and Conquer Assignment Menu\n",
      "                   [1] - Get GDF\n",
      "                   [2] - EXIT\n",
      "                   \n",
      "Enter your choice: 1\n",
      "Enter first integer: 12\n",
      "Enter second integer: 18\n",
      "The GDF of 12 & 18 is: 6\n",
      "\n",
      "                   Divide and Conquer Assignment Menu\n",
      "                   [1] - Get GDF\n",
      "                   [2] - EXIT\n",
      "                   \n",
      "Enter your choice: 1\n",
      "Enter first integer: 24\n",
      "Enter second integer: 36\n",
      "The GDF of 24 & 36 is: 12\n",
      "\n",
      "                   Divide and Conquer Assignment Menu\n",
      "                   [1] - Get GDF\n",
      "                   [2] - EXIT\n",
      "                   \n",
      "Enter your choice: 1\n",
      "Enter first integer: 32\n",
      "Enter second integer: 86\n",
      "The GDF of 32 & 86 is: 2\n",
      "\n",
      "                   Divide and Conquer Assignment Menu\n",
      "                   [1] - Get GDF\n",
      "                   [2] - EXIT\n",
      "                   \n",
      "Enter your choice: -12\n",
      "Invalid input!!\n",
      "\n",
      "                   Divide and Conquer Assignment Menu\n",
      "                   [1] - Get GDF\n",
      "                   [2] - EXIT\n",
      "                   \n",
      "Enter your choice: 1\n",
      "Enter first integer: -12\n",
      "Enter second integer: 4\n",
      "The integer values entered is not positive!\n",
      "\n",
      "                   Divide and Conquer Assignment Menu\n",
      "                   [1] - Get GDF\n",
      "                   [2] - EXIT\n",
      "                   \n",
      "Enter your choice: 2\n",
      "--- BYE BYE!! ---\n"
     ]
    }
   ],
   "source": [
    "# declaring the main function\n",
    "def main():\n",
    "    try: \n",
    "        # keeping the flag value to run or exit the program\n",
    "        flag = 1\n",
    "\n",
    "        # loops until exit\n",
    "        while (flag):\n",
    "            print('''\n",
    "                   Divide and Conquer Assignment Menu\n",
    "                   [1] - Get GDF\n",
    "                   [2] - EXIT\n",
    "                   ''')\n",
    "\n",
    "            #getting user choice\n",
    "            choice = int(input(\"Enter your choice: \"))\n",
    "\n",
    "            # computing the GDF\n",
    "            if choice == 1:\n",
    "\n",
    "                # getting integer values from user\n",
    "                a = int(input(\"Enter first integer: \"))\n",
    "                b = int(input(\"Enter second integer: \"))\n",
    "\n",
    "                # checking if integers entered is positive\n",
    "                if (a>0 and b>0):\n",
    "                    # getting the GDF\n",
    "                    print (\"The GDF of {0} & {1} is: {2}\".format(a,b,GDF(a,b)))\n",
    "\n",
    "                # if intergers is not positive\n",
    "                else:\n",
    "                    print (\"The integer values entered is not positive!\")\n",
    "\n",
    "            # user wishes to exit\n",
    "            elif choice == 2:\n",
    "                print (\"--- BYE BYE!! ---\")\n",
    "                flag = 0\n",
    "                exit(0)\n",
    "\n",
    "            # in case of invalid choice entered\n",
    "            else:\n",
    "                print(\"Invalid input!!\")\n",
    "        \n",
    "    except Exception as e:\n",
    "        logging.error(traceback.format_exc())\n",
    "\n",
    "\n",
    "# calling the main function\n",
    "main()"
   ]
  },
  {
   "cell_type": "markdown",
   "id": "ca872163",
   "metadata": {},
   "source": [
    "### Working of GDF Func()"
   ]
  },
  {
   "cell_type": "markdown",
   "id": "32b674fb",
   "metadata": {},
   "source": [
    "#### Consider two integers a=12, b=18\n",
    "#### Step-1:\n",
    "#### The main function first takes the two integers as the input. If the integers entered are positive then, code runs else a prompt is showed asking to enter a positive integer value.\n",
    "#### Step-2:\n",
    "#### First we take the \"a\" and \"b\" value and put it in the GDF function\n",
    "#### GDF(12,18) is passed\n",
    "####           max = 18\n",
    "####           min = 12\n",
    "####           remainder = 18%12 = 6\n",
    "####           Since remainder ≠ 0, we return GDF(12,6)\n",
    "#### Now, we calculate the GDF(12,6)\n",
    "####           max = 12\n",
    "####           min = 6\n",
    "####           remainder = 12%6 = 0\n",
    "####           Since remainder = 0, we returrn the \"min\" value = 6, i.e the GDF(12,18)\n",
    "#### End of Code"
   ]
  },
  {
   "cell_type": "code",
   "execution_count": null,
   "id": "3e992e8d",
   "metadata": {},
   "outputs": [],
   "source": []
  }
 ],
 "metadata": {
  "kernelspec": {
   "display_name": "Python 3 (ipykernel)",
   "language": "python",
   "name": "python3"
  },
  "language_info": {
   "codemirror_mode": {
    "name": "ipython",
    "version": 3
   },
   "file_extension": ".py",
   "mimetype": "text/x-python",
   "name": "python",
   "nbconvert_exporter": "python",
   "pygments_lexer": "ipython3",
   "version": "3.9.12"
  }
 },
 "nbformat": 4,
 "nbformat_minor": 5
}
